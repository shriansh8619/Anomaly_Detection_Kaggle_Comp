{
 "cells": [
  {
   "cell_type": "markdown",
   "id": "7615e4ba",
   "metadata": {},
   "source": [
    "# Anomaly Detection in Sensor Data\n",
    "\n",
    "**Objective:** Build a machine learning model to detect anomalies (target=1) based on sensor readings (X1-X5) over time.\n",
    "\n",
    "**Workflow:**\n",
    "1.  **Setup:** Import libraries.\n",
    "2.  **Load Data:** Read train, test, and sample submission files.\n",
    "3.  **Exploratory Data Analysis (EDA):** Understand data distributions, correlations, missing values, and outliers.\n",
    "4.  **Feature Engineering:** Create new features from the 'Date' column.\n",
    "5.  **Data Preprocessing:** Handle missing values and scale features.\n",
    "6.  **Model Training & Evaluation:** Train various classification models and evaluate using F1-score and Accuracy.\n",
    "7.  **Hyperparameter Tuning:** Optimize the best-performing model.\n",
    "8.  **Prediction,Evaluation & Submission:** Generate predictions on the test set and save in the required format."
   ]
  },
  {
   "cell_type": "markdown",
   "id": "9f8fa292",
   "metadata": {},
   "source": [
    "## 1. Setup"
   ]
  },
  {
   "cell_type": "code",
   "execution_count": 65,
   "id": "ca16d9ae",
   "metadata": {},
   "outputs": [],
   "source": [
    "# Core Libraries\n",
    "import pandas as pd\n",
    "import numpy as np\n",
    "import datetime\n",
    "\n",
    "# Visualization\n",
    "import matplotlib.pyplot as plt\n",
    "import seaborn as sns\n",
    "\n",
    "# Preprocessing\n",
    "from sklearn.model_selection import train_test_split,RandomizedSearchCV, StratifiedKFold\n",
    "from sklearn.preprocessing import StandardScaler, LabelEncoder\n",
    "from sklearn.impute import SimpleImputer\n",
    "\n",
    "# Models\n",
    "from sklearn.linear_model import LogisticRegression\n",
    "from sklearn.svm import SVC\n",
    "from sklearn.neighbors import KNeighborsClassifier\n",
    "from sklearn.tree import DecisionTreeClassifier\n",
    "from sklearn.ensemble import RandomForestClassifier\n",
    "import xgboost as xgb\n",
    "import lightgbm as lgb\n",
    "import catboost as cb\n",
    "\n",
    "# Metrics\n",
    "from sklearn.metrics import (accuracy_score, precision_score, recall_score,\n",
    "                             f1_score, classification_report, confusion_matrix)\n",
    "# Other\n",
    "import warnings\n",
    "warnings.filterwarnings('ignore')\n",
    "\n",
    "# Set plot style\n",
    "plt.style.use('seaborn-v0_8-whitegrid')"
   ]
  },
  {
   "cell_type": "markdown",
   "id": "92fb8295",
   "metadata": {},
   "source": [
    "## 2. Load Data"
   ]
  },
  {
   "cell_type": "code",
   "execution_count": 6,
   "id": "599ec397",
   "metadata": {
    "scrolled": true
   },
   "outputs": [
    {
     "name": "stdout",
     "output_type": "stream",
     "text": [
      "--- Train Data Info ---\n",
      "<class 'pandas.core.frame.DataFrame'>\n",
      "RangeIndex: 1639424 entries, 0 to 1639423\n",
      "Data columns (total 7 columns):\n",
      " #   Column  Non-Null Count    Dtype         \n",
      "---  ------  --------------    -----         \n",
      " 0   Date    1639424 non-null  datetime64[ns]\n",
      " 1   X1      1639424 non-null  float64       \n",
      " 2   X2      1639424 non-null  float64       \n",
      " 3   X3      1639424 non-null  float64       \n",
      " 4   X4      1639424 non-null  float64       \n",
      " 5   X5      1639424 non-null  float64       \n",
      " 6   target  1639424 non-null  object        \n",
      "dtypes: datetime64[ns](1), float64(5), object(1)\n",
      "memory usage: 87.6+ MB\n",
      "\n",
      "--- Test Data Info ---\n",
      "<class 'pandas.core.frame.DataFrame'>\n",
      "RangeIndex: 409856 entries, 0 to 409855\n",
      "Data columns (total 7 columns):\n",
      " #   Column  Non-Null Count   Dtype         \n",
      "---  ------  --------------   -----         \n",
      " 0   ID      409856 non-null  int64         \n",
      " 1   Date    409856 non-null  datetime64[ns]\n",
      " 2   X1      409856 non-null  float64       \n",
      " 3   X2      409856 non-null  float64       \n",
      " 4   X3      409856 non-null  float64       \n",
      " 5   X4      409856 non-null  float64       \n",
      " 6   X5      409856 non-null  float64       \n",
      "dtypes: datetime64[ns](1), float64(5), int64(1)\n",
      "memory usage: 21.9 MB\n",
      "\n",
      "--- Sample Submission Info ---\n",
      "<class 'pandas.core.frame.DataFrame'>\n",
      "RangeIndex: 50 entries, 0 to 49\n",
      "Data columns (total 2 columns):\n",
      " #   Column  Non-Null Count  Dtype \n",
      "---  ------  --------------  ----- \n",
      " 0   ID      50 non-null     int64 \n",
      " 1   target  50 non-null     object\n",
      "dtypes: int64(1), object(1)\n",
      "memory usage: 932.0+ bytes\n"
     ]
    }
   ],
   "source": [
    "# Load the datasets\n",
    "train_df = pd.read_parquet('train.parquet')\n",
    "test_df = pd.read_parquet('test.parquet')\n",
    "sample_submission_df = pd.read_parquet('sample_submission.parquet')\n",
    "\n",
    "# Display basic information\n",
    "print(\"--- Train Data Info ---\")\n",
    "train_df.info()\n",
    "print(\"\\n--- Test Data Info ---\")\n",
    "test_df.info()\n",
    "print(\"\\n--- Sample Submission Info ---\")\n",
    "sample_submission_df.info()"
   ]
  },
  {
   "cell_type": "code",
   "execution_count": 7,
   "id": "2d4a19be-f055-48c8-ae09-cff499a7913e",
   "metadata": {
    "scrolled": true
   },
   "outputs": [
    {
     "name": "stdout",
     "output_type": "stream",
     "text": [
      "\n",
      "--- Train Data Head ---\n",
      "        Date        X1        X2   X3        X4        X5 target\n",
      "0 2020-12-16  1.518921  5.463154  1.0  2.718282  2.890372      0\n",
      "1 2020-12-16  1.546509  5.458010  1.0  2.718282  2.833213      1\n",
      "2 2020-12-16  1.645427  5.456560  1.0  7.389056  2.890372      1\n",
      "3 2020-12-16  1.652022  5.458479  1.0  2.718282  2.890372      1\n",
      "4 2020-12-16  1.695538  5.466709  1.0  2.718282  2.890372      0\n",
      "\n",
      "--- Test Data Head ---\n",
      "   ID       Date        X1        X2   X3        X4        X5\n",
      "0   0 2020-12-16  1.685395  5.463917  1.0  7.389056  2.890372\n",
      "1   1 2020-12-16  1.488844  5.454936  1.0  7.389056  2.890372\n",
      "2   2 2020-12-16  1.164160  5.471136  1.0  1.000000  2.890372\n",
      "3   3 2020-12-16  1.000000  5.467385  1.0  1.000000  2.890372\n",
      "4   4 2020-12-16  1.000000  5.453995  1.0  1.000000  2.833213\n",
      "\n",
      "--- Sample Submission Head ---\n",
      "       ID target\n",
      "0  409856      0\n",
      "1  409857      0\n",
      "2  409858      0\n",
      "3  409859      0\n",
      "4  409860      0\n"
     ]
    }
   ],
   "source": [
    "print(\"\\n--- Train Data Head ---\")\n",
    "print(train_df.head())\n",
    "\n",
    "print(\"\\n--- Test Data Head ---\")\n",
    "print(test_df.head())\n",
    "\n",
    "print(\"\\n--- Sample Submission Head ---\")\n",
    "print(sample_submission_df.head())"
   ]
  },
  {
   "cell_type": "markdown",
   "id": "70a99dcb",
   "metadata": {},
   "source": [
    "## 3. Exploratory Data Analysis (EDA)"
   ]
  },
  {
   "cell_type": "code",
   "execution_count": 9,
   "id": "e6676c46-8436-4eba-a3c3-9c66b213d7f2",
   "metadata": {},
   "outputs": [],
   "source": [
    "# target datatype is object need to change it to int\n",
    "train_df['target'] = train_df['target'].astype(int)"
   ]
  },
  {
   "cell_type": "code",
   "execution_count": 10,
   "id": "2c216768",
   "metadata": {},
   "outputs": [
    {
     "name": "stdout",
     "output_type": "stream",
     "text": [
      "\n",
      "--- Train Data Description ---\n"
     ]
    },
    {
     "data": {
      "text/html": [
       "<div>\n",
       "<style scoped>\n",
       "    .dataframe tbody tr th:only-of-type {\n",
       "        vertical-align: middle;\n",
       "    }\n",
       "\n",
       "    .dataframe tbody tr th {\n",
       "        vertical-align: top;\n",
       "    }\n",
       "\n",
       "    .dataframe thead th {\n",
       "        text-align: right;\n",
       "    }\n",
       "</style>\n",
       "<table border=\"1\" class=\"dataframe\">\n",
       "  <thead>\n",
       "    <tr style=\"text-align: right;\">\n",
       "      <th></th>\n",
       "      <th>Date</th>\n",
       "      <th>X1</th>\n",
       "      <th>X2</th>\n",
       "      <th>X3</th>\n",
       "      <th>X4</th>\n",
       "      <th>X5</th>\n",
       "      <th>target</th>\n",
       "    </tr>\n",
       "  </thead>\n",
       "  <tbody>\n",
       "    <tr>\n",
       "      <th>count</th>\n",
       "      <td>1639424</td>\n",
       "      <td>1.639424e+06</td>\n",
       "      <td>1.639424e+06</td>\n",
       "      <td>1.639424e+06</td>\n",
       "      <td>1.639424e+06</td>\n",
       "      <td>1.639424e+06</td>\n",
       "      <td>1.639424e+06</td>\n",
       "    </tr>\n",
       "    <tr>\n",
       "      <th>mean</th>\n",
       "      <td>2022-12-03 07:23:43.817145600</td>\n",
       "      <td>1.139258e+00</td>\n",
       "      <td>5.488189e+00</td>\n",
       "      <td>4.110388e+32</td>\n",
       "      <td>2.706323e+29</td>\n",
       "      <td>1.187219e+00</td>\n",
       "      <td>8.562764e-03</td>\n",
       "    </tr>\n",
       "    <tr>\n",
       "      <th>min</th>\n",
       "      <td>2020-12-16 00:00:00</td>\n",
       "      <td>1.000000e+00</td>\n",
       "      <td>5.412539e+00</td>\n",
       "      <td>1.000000e+00</td>\n",
       "      <td>1.000000e+00</td>\n",
       "      <td>0.000000e+00</td>\n",
       "      <td>0.000000e+00</td>\n",
       "    </tr>\n",
       "    <tr>\n",
       "      <th>25%</th>\n",
       "      <td>2021-12-10 00:00:00</td>\n",
       "      <td>1.049171e+00</td>\n",
       "      <td>5.480597e+00</td>\n",
       "      <td>1.000000e+00</td>\n",
       "      <td>1.000000e+00</td>\n",
       "      <td>0.000000e+00</td>\n",
       "      <td>0.000000e+00</td>\n",
       "    </tr>\n",
       "    <tr>\n",
       "      <th>50%</th>\n",
       "      <td>2022-11-30 00:00:00</td>\n",
       "      <td>1.105171e+00</td>\n",
       "      <td>5.488979e+00</td>\n",
       "      <td>1.000000e+00</td>\n",
       "      <td>1.000000e+00</td>\n",
       "      <td>6.931472e-01</td>\n",
       "      <td>0.000000e+00</td>\n",
       "    </tr>\n",
       "    <tr>\n",
       "      <th>75%</th>\n",
       "      <td>2023-11-23 00:00:00</td>\n",
       "      <td>1.214096e+00</td>\n",
       "      <td>5.496717e+00</td>\n",
       "      <td>1.000000e+00</td>\n",
       "      <td>2.718282e+00</td>\n",
       "      <td>2.890372e+00</td>\n",
       "      <td>0.000000e+00</td>\n",
       "    </tr>\n",
       "    <tr>\n",
       "      <th>max</th>\n",
       "      <td>2024-12-11 00:00:00</td>\n",
       "      <td>4.014850e+00</td>\n",
       "      <td>5.541852e+00</td>\n",
       "      <td>1.651636e+38</td>\n",
       "      <td>5.540622e+34</td>\n",
       "      <td>3.465736e+00</td>\n",
       "      <td>1.000000e+00</td>\n",
       "    </tr>\n",
       "    <tr>\n",
       "      <th>std</th>\n",
       "      <td>NaN</td>\n",
       "      <td>1.391992e-01</td>\n",
       "      <td>1.342811e-02</td>\n",
       "      <td>2.346156e+35</td>\n",
       "      <td>5.812988e+31</td>\n",
       "      <td>1.304814e+00</td>\n",
       "      <td>9.213820e-02</td>\n",
       "    </tr>\n",
       "  </tbody>\n",
       "</table>\n",
       "</div>"
      ],
      "text/plain": [
       "                                Date            X1            X2  \\\n",
       "count                        1639424  1.639424e+06  1.639424e+06   \n",
       "mean   2022-12-03 07:23:43.817145600  1.139258e+00  5.488189e+00   \n",
       "min              2020-12-16 00:00:00  1.000000e+00  5.412539e+00   \n",
       "25%              2021-12-10 00:00:00  1.049171e+00  5.480597e+00   \n",
       "50%              2022-11-30 00:00:00  1.105171e+00  5.488979e+00   \n",
       "75%              2023-11-23 00:00:00  1.214096e+00  5.496717e+00   \n",
       "max              2024-12-11 00:00:00  4.014850e+00  5.541852e+00   \n",
       "std                              NaN  1.391992e-01  1.342811e-02   \n",
       "\n",
       "                 X3            X4            X5        target  \n",
       "count  1.639424e+06  1.639424e+06  1.639424e+06  1.639424e+06  \n",
       "mean   4.110388e+32  2.706323e+29  1.187219e+00  8.562764e-03  \n",
       "min    1.000000e+00  1.000000e+00  0.000000e+00  0.000000e+00  \n",
       "25%    1.000000e+00  1.000000e+00  0.000000e+00  0.000000e+00  \n",
       "50%    1.000000e+00  1.000000e+00  6.931472e-01  0.000000e+00  \n",
       "75%    1.000000e+00  2.718282e+00  2.890372e+00  0.000000e+00  \n",
       "max    1.651636e+38  5.540622e+34  3.465736e+00  1.000000e+00  \n",
       "std    2.346156e+35  5.812988e+31  1.304814e+00  9.213820e-02  "
      ]
     },
     "execution_count": 10,
     "metadata": {},
     "output_type": "execute_result"
    }
   ],
   "source": [
    "# --- Basic Statistics ---\n",
    "print(\"\\n--- Train Data Description ---\")\n",
    "train_df.describe()"
   ]
  },
  {
   "cell_type": "code",
   "execution_count": 11,
   "id": "ab9c436e-de1d-4ed3-9c53-451545697ab3",
   "metadata": {},
   "outputs": [
    {
     "name": "stdout",
     "output_type": "stream",
     "text": [
      "\n",
      " Target Variable Distribution\n",
      "target\n",
      "0    1625386\n",
      "1      14038\n",
      "Name: count, dtype: int64\n",
      "\n",
      "Percentage:\n",
      "target\n",
      "0    99.143724\n",
      "1     0.856276\n",
      "Name: proportion, dtype: float64\n"
     ]
    }
   ],
   "source": [
    "# --- Target Distribution ---\n",
    "print(\"\\n Target Variable Distribution\")\n",
    "target_counts = train_df['target'].value_counts()\n",
    "target_percentage = train_df['target'].value_counts(normalize=True) * 100\n",
    "print(target_counts)\n",
    "print(f\"\\nPercentage:\\n{target_percentage}\")"
   ]
  },
  {
   "cell_type": "code",
   "execution_count": 12,
   "id": "b4edce77-899d-47f8-b9fb-7e8cbec1763e",
   "metadata": {},
   "outputs": [
    {
     "data": {
      "image/png": "[encoded data removed]",
      "text/plain": [
       "<Figure size 600x400 with 1 Axes>"
      ]
     },
     "metadata": {},
     "output_type": "display_data"
    }
   ],
   "source": [
    "plt.figure(figsize=(6, 4))\n",
    "sns.countplot(x='target', data=train_df)\n",
    "plt.title('Target Variable')\n",
    "plt.show()"
   ]
  },
  {
   "cell_type": "code",
   "execution_count": 80,
   "id": "1b178768-f28e-4445-be62-99bcc6170548",
   "metadata": {},
   "outputs": [
    {
     "data": {
      "image/png": "[encoded data removed]",
      "text/plain": [
       "<Figure size 600x400 with 1 Axes>"
      ]
     },
     "metadata": {},
     "output_type": "display_data"
    }
   ],
   "source": [
    "# Assistant\n",
    "# Create a figure with specified dimensions (6x4 inches)\n",
    "plt.figure(figsize=(6, 4))\n",
    "# Generate a count plot showing the distribution of the target variable\n",
    "sns.countplot(x='target', data=train_df)\n",
    "# Add a title to the plot\n",
    "plt.title('Target Variable')\n",
    "# Display the plot\n",
    "plt.show()"
   ]
  },
  {
   "cell_type": "markdown",
   "id": "e0f09b85-baf0-464c-92b5-22fc7d87c69f",
   "metadata": {},
   "source": [
    "* **Significant class imbalance detected.**"
   ]
  },
  {
   "cell_type": "code",
   "execution_count": 14,
   "id": "6d097b3c-b446-492b-8559-d62f2058ebe0",
   "metadata": {
    "collapsed": true,
    "jupyter": {
     "outputs_hidden": true
    },
    "scrolled": true
   },
   "outputs": [
    {
     "name": "stdout",
     "output_type": "stream",
     "text": [
      "\n",
      "--- Missing Values in Train Data ---\n",
      "Date      0\n",
      "X1        0\n",
      "X2        0\n",
      "X3        0\n",
      "X4        0\n",
      "X5        0\n",
      "target    0\n",
      "dtype: int64\n",
      "\n",
      "--- Missing Values in Test Data ---\n",
      "ID      0\n",
      "Date    0\n",
      "X1      0\n",
      "X2      0\n",
      "X3      0\n",
      "X4      0\n",
      "X5      0\n",
      "dtype: int64\n"
     ]
    }
   ],
   "source": [
    "# --- Missing Values ---\n",
    "print(\"\\n--- Missing Values in Train Data ---\")\n",
    "print(train_df.isnull().sum())\n",
    "\n",
    "print(\"\\n--- Missing Values in Test Data ---\")\n",
    "print(test_df.isnull().sum())"
   ]
  },
  {
   "cell_type": "markdown",
   "id": "e45b7f6f-00ff-4c24-b8c9-d33753a07b2a",
   "metadata": {},
   "source": [
    "* **No Missing Values in datasets**"
   ]
  },
  {
   "cell_type": "code",
   "execution_count": null,
   "id": "af1aec24-4386-4fab-af01-17db709a8199",
   "metadata": {},
   "outputs": [],
   "source": []
  },
  {
   "cell_type": "code",
   "execution_count": 17,
   "id": "6deda8e0-4595-495e-931d-6a8a74f8517e",
   "metadata": {
    "scrolled": true
   },
   "outputs": [
    {
     "name": "stdout",
     "output_type": "stream",
     "text": [
      "\n",
      "Sensor Data Box Plots (Train) - Potential Outliers\n"
     ]
    },
    {
     "data": {
      "image/png": "[encoded data removed]",
      "text/plain": [
       "<Figure size 1000x2000 with 5 Axes>"
      ]
     },
     "metadata": {},
     "output_type": "display_data"
    }
   ],
   "source": [
    "#  Box Plots for Outlier Detection \n",
    "print(\"\\nSensor Data Box Plots (Train) - Potential Outliers\")\n",
    "sensor_cols=['X1','X2','X3','X4','X5']\n",
    "fig, axes = plt.subplots(5, 1, figsize=(10, 20))\n",
    "\n",
    "for i, col in enumerate(sensor_cols):\n",
    "    sns.boxplot(x=train_df[col], ax=axes[i])\n",
    "    axes[i].set_title(f'Box Plot of {col}')\n",
    "plt.tight_layout()\n",
    "plt.show()"
   ]
  },
  {
   "cell_type": "markdown",
   "id": "479fc1bd-f253-4ec9-9436-da17abf34eb3",
   "metadata": {},
   "source": [
    "### Outlier Analysis and Handling Strategy\n",
    "\n",
    "**Observations from Box Plots:**\n",
    "\n",
    "The box plots generated above for the sensor columns (`X1` to `X5`) provide a visual indication of data distribution and potential outliers.\n",
    "* Sensors `X1`, `X3`, and `X4` show potential outliers primarily on the higher end (points beyond the upper whisker).\n",
    "* Sensor `X2` displays potential outliers on both the lower and higher ends.\n",
    "* Sensor `X5` appears to have fewer or no significant outliers based on this visualization method.\n",
    "\n",
    "**Decision on Handling Outliers:**\n",
    "\n",
    "Based on these observations, the decision is **not to apply explicit outlier removal or capping techniques** (like Z-score, IQR, or percentile capping) to these features at this stage.\n",
    "\n",
    "**Justification:**\n",
    "\n",
    "1.  **Anomaly Detection Context:** The primary goal of this project is anomaly detection. Outliers in the sensor readings could be legitimate, extreme values that are highly indicative of the very anomalies (`target=1`) we are trying to predict.\n",
    "2.  **Risk of Information Loss:** Removing or altering these data points based solely on their distribution within the features could inadvertently eliminate critical information needed by the model to distinguish between normal and anomalous states.\n",
    "3.  **Model Robustness:** We plan to utilize several machine learning models later, including tree-based ensembles (Random Forest, XGBoost, LightGBM, CatBoost). These algorithms are generally robust to outliers as they partition the data based on feature values rather than being heavily influenced by the magnitude of extreme points, unlike distance-based methods (e.g., KNN, SVM) or linear models.\n",
    "\n",
    "**Chosen Strategy:**\n",
    "\n",
    "We will proceed with the data as is, including the potential outliers identified by the box plots. The robustness of the chosen modeling techniques will be relied upon to handle these extreme values appropriately. The predictive power of these potential outliers (whether they correlate with `target=1`) will be determined implicitly by the models during training.\n",
    "\n",
    "**(Optional Addition):**\n",
    "*If model performance is unsatisfactory later, the potential impact of very extreme values could be revisited. However, the initial approach is to preserve all data points.*"
   ]
  },
  {
   "cell_type": "code",
   "execution_count": 19,
   "id": "85f16419-8b66-4d54-a030-d1ed15b64cb6",
   "metadata": {},
   "outputs": [
    {
     "name": "stdout",
     "output_type": "stream",
     "text": [
      "\n",
      "--- Correlation Matrix (Train Data including Target) ---\n"
     ]
    },
    {
     "data": {
      "image/png": "[encoded data removed]",
      "text/plain": [
       "<Figure size 1000x800 with 2 Axes>"
      ]
     },
     "metadata": {},
     "output_type": "display_data"
    }
   ],
   "source": [
    "# --- Correlation Analysis ---\n",
    "print(\"\\n--- Correlation Matrix (Train Data including Target) ---\")\n",
    "plt.figure(figsize=(10, 8))\n",
    "# Select only numeric columns for correlation\n",
    "numeric_cols_train = train_df.select_dtypes(include=np.number).columns\n",
    "correlation_matrix = train_df[numeric_cols_train].corr()\n",
    "sns.heatmap(correlation_matrix, annot=True, cmap='coolwarm', fmt='.2f')\n",
    "plt.title('Correlation Matrix')\n",
    "plt.show()"
   ]
  },
  {
   "cell_type": "markdown",
   "id": "862e679e",
   "metadata": {},
   "source": [
    "## 4. Feature Engineering"
   ]
  },
  {
   "cell_type": "code",
   "execution_count": 21,
   "id": "4e3bc93c",
   "metadata": {},
   "outputs": [
    {
     "name": "stdout",
     "output_type": "stream",
     "text": [
      "Creating time features for train and test sets...\n",
      "\n",
      "Engineered features: ['X1', 'X2', 'X3', 'X4', 'X5', 'dayofweek', 'dayofmonth', 'dayofyear', 'weekofyear', 'month', 'year', 'quarter']\n",
      "\n",
      "Train data shape after FE: (1639424, 12)\n",
      "Test data shape after FE: (409856, 12)\n",
      "\n",
      "Train data head after FE:\n",
      "         X1        X2   X3        X4        X5  dayofweek  dayofmonth  \\\n",
      "0  1.518921  5.463154  1.0  2.718282  2.890372          2          16   \n",
      "1  1.546509  5.458010  1.0  2.718282  2.833213          2          16   \n",
      "2  1.645427  5.456560  1.0  7.389056  2.890372          2          16   \n",
      "3  1.652022  5.458479  1.0  2.718282  2.890372          2          16   \n",
      "4  1.695538  5.466709  1.0  2.718282  2.890372          2          16   \n",
      "\n",
      "   dayofyear  weekofyear  month  year  quarter  \n",
      "0        351          51     12  2020        4  \n",
      "1        351          51     12  2020        4  \n",
      "2        351          51     12  2020        4  \n",
      "3        351          51     12  2020        4  \n",
      "4        351          51     12  2020        4  \n"
     ]
    }
   ],
   "source": [
    "def create_time_features(df):\n",
    "    \"\"\"Creates time-based features from the 'Date' column.\"\"\"\n",
    "    df = df.copy() # Avoid SettingWithCopyWarning\n",
    "    df['dayofweek'] = df['Date'].dt.dayofweek # Monday=0, Sunday=6\n",
    "    df['dayofmonth'] = df['Date'].dt.day\n",
    "    df['dayofyear'] = df['Date'].dt.dayofyear\n",
    "    df['weekofyear'] = df['Date'].dt.isocalendar().week.astype(int) # Use isocalendar for week\n",
    "    df['month'] = df['Date'].dt.month\n",
    "    df['year'] = df['Date'].dt.year\n",
    "    df['quarter'] = df['Date'].dt.quarter\n",
    "    return df\n",
    "\n",
    "print(\"Creating time features for train and test sets...\")\n",
    "train_df_fe = create_time_features(train_df)\n",
    "test_df_fe = create_time_features(test_df)\n",
    "\n",
    "# Define feature columns (excluding original Date and target)\n",
    "feature_cols = sensor_cols + [col for col in train_df_fe.columns if col not in ['Date', 'target', 'ID'] and col not in sensor_cols]\n",
    "\n",
    "# Ensure test set has the same columns (except 'target' and potentially 'ID')\n",
    "test_feature_cols = [col for col in feature_cols if col in test_df_fe.columns]\n",
    "# Align columns - crucial step!\n",
    "train_final_features = train_df_fe[feature_cols]\n",
    "test_final_features = test_df_fe[test_feature_cols]\n",
    "\n",
    "# Add any missing columns to test set (e.g., if a feature was only in train due to a specific date range)\n",
    "# This is less common with time features but good practice for other FE types\n",
    "missing_cols = set(train_final_features.columns) - set(test_final_features.columns)\n",
    "for c in missing_cols:\n",
    "   test_final_features[c] = 0 # Or impute appropriately\n",
    "# Ensure the order of columns is the same\n",
    "test_final_features = test_final_features[train_final_features.columns] \n",
    "\n",
    "print(f\"\\nEngineered features: {feature_cols}\")\n",
    "print(\"\\nTrain data shape after FE:\", train_final_features.shape)\n",
    "print(\"Test data shape after FE:\", test_final_features.shape)\n",
    "print(\"\\nTrain data head after FE:\")\n",
    "print(train_final_features.head())"
   ]
  },
  {
   "cell_type": "markdown",
   "id": "71302a0d-1796-49c7-a238-ce458f1120ea",
   "metadata": {},
   "source": [
    "### Section 4: Feature Engineering (Summary)\n",
    "\n",
    "Extracted date components (like `dayofweek`, `month`, `year`) from the 'Date' column to create new time-based features, aiming to help models identify potential cyclical or seasonal patterns in anomalies.\n",
    "\n"
   ]
  },
  {
   "cell_type": "markdown",
   "id": "68f65ab9",
   "metadata": {},
   "source": [
    "## 5. Data Preprocessing"
   ]
  },
  {
   "cell_type": "code",
   "execution_count": 23,
   "id": "8446fc3f",
   "metadata": {},
   "outputs": [
    {
     "name": "stdout",
     "output_type": "stream",
     "text": [
      "\n",
      "Scaling features using StandardScaler...\n",
      "\n",
      "Processed training data shape: (1639424, 12)\n",
      "Processed test data shape: (409856, 12)\n",
      "\n",
      "Processed training data head:\n",
      "         X1        X2        X3        X4        X5  dayofweek  dayofmonth  \\\n",
      "0  2.727476 -1.864371 -0.001752 -0.004656  1.305284  -0.497156    0.038019   \n",
      "1  2.925668 -2.247433 -0.001752 -0.004656  1.261479  -0.497156    0.038019   \n",
      "2  3.636292 -2.355426 -0.001752 -0.004656  1.305284  -0.497156    0.038019   \n",
      "3  3.683670 -2.212528 -0.001752 -0.004656  1.305284  -0.497156    0.038019   \n",
      "4  3.996285 -1.599597 -0.001752 -0.004656  1.305284  -0.497156    0.038019   \n",
      "\n",
      "   dayofyear  weekofyear    month      year   quarter  \n",
      "0   1.602488    1.629998  1.59695 -2.156496  1.340444  \n",
      "1   1.602488    1.629998  1.59695 -2.156496  1.340444  \n",
      "2   1.602488    1.629998  1.59695 -2.156496  1.340444  \n",
      "3   1.602488    1.629998  1.59695 -2.156496  1.340444  \n",
      "4   1.602488    1.629998  1.59695 -2.156496  1.340444  \n"
     ]
    }
   ],
   "source": [
    "# --- Feature Scaling ---\n",
    "print(\"\\nScaling features using StandardScaler...\")\n",
    "scaler = StandardScaler()\n",
    "\n",
    "# Fit directly on the feature-engineered data (since no imputation was needed)\n",
    "# Ensure train_final_features and test_final_features are defined from Section 4\n",
    "X_train_scaled = scaler.fit_transform(train_final_features) # Use train_final_features directly\n",
    "X_test_scaled = scaler.transform(test_final_features)     # Use test_final_features directly\n",
    "\n",
    "# Convert back to DataFrame (optional, can work with numpy arrays)\n",
    "X_train_processed = pd.DataFrame(X_train_scaled, columns=feature_cols, index=train_final_features.index)\n",
    "X_test_processed = pd.DataFrame(X_test_scaled, columns=feature_cols, index=test_final_features.index)\n",
    "\n",
    "# Target variable\n",
    "y_train = train_df_fe['target'] # train_df_fe should be the dataframe after feature engineering\n",
    "\n",
    "print(\"\\nProcessed training data shape:\", X_train_processed.shape)\n",
    "print(\"Processed test data shape:\", X_test_processed.shape)\n",
    "print(\"\\nProcessed training data head:\")\n",
    "print(X_train_processed.head())"
   ]
  },
  {
   "cell_type": "markdown",
   "id": "f488848b",
   "metadata": {},
   "source": [
    "## 6. Model Training & Evaluation\n",
    "\n",
    "We will train several models and evaluate them using Accuracy and F1-Score. F1-score is often more relevant for imbalanced datasets."
   ]
  },
  {
   "cell_type": "code",
   "execution_count": 37,
   "id": "27a2c2e8-2ca1-4855-a835-d98a19fca836",
   "metadata": {},
   "outputs": [
    {
     "name": "stdout",
     "output_type": "stream",
     "text": [
      "Calculated scale_pos_weight for XGBoost/CatBoost: 115.78\n"
     ]
    }
   ],
   "source": [
    "y_train = train_df_fe['target']\n",
    "\n",
    "neg_count = target_counts[0] # Count of target 0\n",
    "pos_count = target_counts[1]   # Count of target 1\n",
    "\n",
    "# Calculate scale_pos_weight for models that use it\n",
    "# This value represents roughly how many times more frequent the negative class is than the positive class\n",
    "scale_pos_weight_val = neg_count / pos_count\n",
    "print(f\"Calculated scale_pos_weight for XGBoost/CatBoost: {scale_pos_weight_val:.2f}\")"
   ]
  },
  {
   "cell_type": "code",
   "execution_count": 39,
   "id": "3f9bda0c-c756-4c5b-b14d-ec0b991bb283",
   "metadata": {},
   "outputs": [
    {
     "name": "stdout",
     "output_type": "stream",
     "text": [
      "\n",
      "Splitting data into Training and Validation sets...\n",
      "Training Split Shape: (1229568, 12)\n",
      "Validation Split Shape: (409856, 12)\n",
      "Validation target distribution (proportion):\n",
      "target\n",
      "0    0.991438\n",
      "1    0.008562\n",
      "Name: proportion, dtype: float64\n"
     ]
    }
   ],
   "source": [
    "# --- Split Data for Validation ---\n",
    "# Split processed training data into training and validation sets\n",
    "# Use stratify to maintain class proportions, essential for imbalanced data\n",
    "print(\"\\nSplitting data into Training and Validation sets...\")\n",
    "X_train_split, X_val_split, y_train_split, y_val_split = train_test_split(\n",
    "    X_train_processed,\n",
    "    y_train,\n",
    "    test_size=0.25, # Use 20-25% for validation, adjust as needed\n",
    "    random_state=42, # Ensures reproducibility\n",
    "    stratify=y_train # Keeps class proportions consistent in splits\n",
    ")\n",
    "print(f\"Training Split Shape: {X_train_split.shape}\")\n",
    "print(f\"Validation Split Shape: {X_val_split.shape}\")\n",
    "print(\"Validation target distribution (proportion):\")\n",
    "print(pd.Series(y_val_split).value_counts(normalize=True))"
   ]
  },
  {
   "cell_type": "code",
   "execution_count": 41,
   "id": "07951d42-6e6b-4411-9445-2aab6c91f087",
   "metadata": {},
   "outputs": [],
   "source": [
    "# --- Define Models (with Class Weighting, SVM commented out) ---\n",
    "models = {\n",
    "    'Logistic Regression': LogisticRegression(random_state=42, max_iter=1000, class_weight='balanced'),\n",
    "    'K-Nearest Neighbors': KNeighborsClassifier(),\n",
    "    'Decision Tree': DecisionTreeClassifier(random_state=42, class_weight='balanced'),\n",
    "    'Random Forest': RandomForestClassifier(random_state=42, n_jobs=-1, class_weight='balanced'),\n",
    "    'XGBoost': xgb.XGBClassifier(random_state=42, use_label_encoder=False, eval_metric='logloss', n_jobs=-1, scale_pos_weight=scale_pos_weight_val),\n",
    "    'LightGBM': lgb.LGBMClassifier(random_state=42, n_jobs=-1, class_weight='balanced'),\n",
    "    'CatBoost': cb.CatBoostClassifier(random_state=42, verbose=0, scale_pos_weight=scale_pos_weight_val),\n",
    "}"
   ]
  },
  {
   "cell_type": "code",
   "execution_count": 49,
   "id": "7446ba21-f4dd-46cd-94f7-b4bb6eb8dd84",
   "metadata": {},
   "outputs": [
    {
     "name": "stdout",
     "output_type": "stream",
     "text": [
      "\n",
      "--- Training Models and Evaluating on Validation Set ---\n",
      "Training Logistic Regression...\n",
      "Logistic Regression - Validation Accuracy: 0.8634, Validation F1 Score: 0.0988\n",
      "------------------------------\n",
      "Training K-Nearest Neighbors...\n",
      "K-Nearest Neighbors - Validation Accuracy: 0.9939, Validation F1 Score: 0.5594\n",
      "------------------------------\n",
      "Training Decision Tree...\n",
      "Decision Tree - Validation Accuracy: 0.9921, Validation F1 Score: 0.5167\n",
      "------------------------------\n",
      "Training Random Forest...\n",
      "Random Forest - Validation Accuracy: 0.9946, Validation F1 Score: 0.6012\n",
      "------------------------------\n",
      "Training XGBoost...\n",
      "XGBoost - Validation Accuracy: 0.9416, Validation F1 Score: 0.2126\n",
      "------------------------------\n",
      "Training LightGBM...\n",
      "[LightGBM] [Info] Number of positive: 10529, number of negative: 1219039\n",
      "[LightGBM] [Info] Auto-choosing row-wise multi-threading, the overhead of testing was 0.043379 seconds.\n",
      "You can set `force_row_wise=true` to remove the overhead.\n",
      "And if memory is not enough, you can set `force_col_wise=true`.\n",
      "[LightGBM] [Info] Total Bins 988\n",
      "[LightGBM] [Info] Number of data points in the train set: 1229568, number of used features: 12\n",
      "[LightGBM] [Info] [binary:BoostFromScore]: pavg=0.500000 -> initscore=-0.000000\n",
      "[LightGBM] [Info] Start training from score -0.000000\n",
      "LightGBM - Validation Accuracy: 0.9314, Validation F1 Score: 0.1891\n",
      "------------------------------\n",
      "Training CatBoost...\n",
      "CatBoost - Validation Accuracy: 0.9630, Validation F1 Score: 0.2939\n",
      "------------------------------\n"
     ]
    }
   ],
   "source": [
    "# --- Train and Evaluate Models on Validation Set ---\n",
    "results = {} # Dictionary to store validation results\n",
    "\n",
    "print(\"\\n--- Training Models and Evaluating on Validation Set ---\")\n",
    "\n",
    "for name, model in models.items():\n",
    "    print(f\"Training {name}...\")\n",
    "    \n",
    "    # Train the model on the TRAINING SPLIT\n",
    "    model.fit(X_train_split, y_train_split)\n",
    "\n",
    "    # Predict on the VALIDATION SPLIT\n",
    "    y_pred_val = model.predict(X_val_split)\n",
    "\n",
    "    \n",
    "    # Calculate metrics using VALIDATION data\n",
    "    accuracy = accuracy_score(y_val_split, y_pred_val)\n",
    "    f1 = f1_score(y_val_split, y_pred_val, average='binary', pos_label=1) # F1 for the positive class (1)\n",
    "\n",
    "    results[name] = {'Accuracy': accuracy, 'F1 Score': f1}\n",
    "    # Print VALIDATION scores\n",
    "    print(f\"{name} - Validation Accuracy: {accuracy:.4f}, Validation F1 Score: {f1:.4f}\")\n",
    "  \n",
    "\n",
    "    print(\"-\" * 30)"
   ]
  },
  {
   "cell_type": "code",
   "execution_count": 55,
   "id": "ef48c406-d8a5-4ee9-a5ff-dc0526a934fb",
   "metadata": {},
   "outputs": [
    {
     "name": "stdout",
     "output_type": "stream",
     "text": [
      "\n",
      "--- Model Comparison (Based on Validation F1 Score) ---\n",
      "                     Accuracy  F1 Score\n",
      "Random Forest        0.994593  0.601152\n",
      "K-Nearest Neighbors  0.993905  0.559436\n",
      "Decision Tree        0.992095  0.516706\n",
      "CatBoost             0.962980  0.293918\n",
      "XGBoost              0.941621  0.212591\n",
      "LightGBM             0.931449  0.189149\n",
      "Logistic Regression  0.863369  0.098782\n",
      "\n",
      "Selected Best Model (based on Validation F1): Random Forest\n"
     ]
    }
   ],
   "source": [
    "# --- Compare Model Performance Based on Validation F1 Score ---\n",
    "\n",
    "results_df = pd.DataFrame(results).T.sort_values(by='F1 Score', ascending=False)\n",
    "print(\"\\n--- Model Comparison (Based on Validation F1 Score) ---\")\n",
    "print(results_df)\n",
    "\n",
    "\n",
    "best_model_name = results_df.index[0]\n",
    "print(f\"\\nSelected Best Model (based on Validation F1): {best_model_name}\")\n",
    "\n",
    "# Retrieve the best model instance (it's already trained on X_train_split)\n",
    "# Note: For final submission, you might retrain this best model on the *entire* X_train_processed/y_train\n",
    "best_model_on_split = models.get(best_model_name)"
   ]
  },
  {
   "cell_type": "markdown",
   "id": "c5f4e754-9f77-4a31-961a-0850f244ad65",
   "metadata": {},
   "source": [
    "### Section 6: Model Training & Baseline Evaluation (Summary)\n",
    "\n",
    "Trained multiple classifiers (Logistic Regression, Random Forest, XGBoost, etc.) using class weighting to handle severe data imbalance. Based on F1 scores from training data evaluation, the untuned Random Forest was selected as the best baseline model. (Note: SVM was skipped due to excessive training time)."
   ]
  },
  {
   "cell_type": "markdown",
   "id": "3420b164-8ad4-48ff-9ff4-2821961dd890",
   "metadata": {},
   "source": [
    "### Note on Skipped SVM Execution\n",
    "\n",
    "* **SVM (`SVC`)**: Initially included for evaluation.\n",
    "* **Issue**: Training took excessively long (>30 mins, incomplete) on the large dataset (~1.6M samples) due to its computational complexity (often O(n²)+).\n",
    "* **Decision**: For practical reasons and timely completion, SVM was skipped.\n",
    "* **Focus**: Evaluation proceeded using faster models like Random Forest, XGBoost, etc."
   ]
  },
  {
   "cell_type": "markdown",
   "id": "54558f19",
   "metadata": {},
   "source": [
    "## 7. Hyperparameter Tuning (Example with Best Model)\n",
    "\n",
    "We'll tune the hyperparameters of the selected best model using RandomSearchCV. This step can be time-consuming."
   ]
  },
  {
   "cell_type": "code",
   "execution_count": null,
   "id": "50ceec72",
   "metadata": {},
   "outputs": [],
   "source": [
    "'''\n",
    "# --- Hyperparameter Tuning for the Best Model ---\n",
    "best_model_untuned = best_model_on_split # Keep a reference\n",
    "final_model = best_model_on_split # Default to the untuned model if tuning fails or isn't performed\n",
    "\n",
    "\n",
    "param_distributions = {\n",
    "    'n_estimators': [100, 200, 300], # Fewer trees might speed it up too\n",
    "    'max_depth': [10, 20, 30, None],\n",
    "    'min_samples_split': [2, 5, 10],\n",
    "    'min_samples_leaf': [1, 3, 5],\n",
    "    'class_weight': ['balanced'] # Keep this fixed based on earlier findings\n",
    "    # Add 'max_features': ['sqrt', 'log2', None] if desired\n",
    "}\n",
    "\n",
    "# Use StratifiedKFold for classification\n",
    "cv = StratifiedKFold(n_splits=3, shuffle=True, random_state=42) # Using cv=3 for speed\n",
    "\n",
    "print(f\"\\nTuning RandomForestClassifier using RandomizedSearchCV...\")\n",
    "\n",
    "# NOTE: n_iter controls how many combinations are tried.\n",
    "# Increase n_iter for better search, decrease for speed. 10-20 is often a good start.\n",
    "n_iterations = 10 # Adjust this number\n",
    "\n",
    "random_search = RandomizedSearchCV(\n",
    "    estimator=RandomForestClassifier(random_state=42, n_jobs=-1), # n_jobs=-1 uses all cores\n",
    "    param_distributions=param_distributions,\n",
    "    n_iter=n_iterations, # <<< Key difference: number of iterations\n",
    "    cv=cv,\n",
    "    scoring='f1',      # Keep focusing on F1 score\n",
    "    n_jobs=-1,         # Use parallel cores for search if possible\n",
    "    verbose=2,         # Set verbose=2 to see progress!\n",
    "    random_state=42    # For reproducible random sampling\n",
    ")\n",
    "\n",
    "# Fit RandomizedSearchCV (this should be much faster than GridSearchCV)\n",
    "random_search.fit(X_train_processed, y_train) # Use your processed data\n",
    "\n",
    "print(f\"Best Parameters for RandomForestClassifier: {random_search.best_params_}\")\n",
    "print(f\"Best F1 Score from RandomSearch: {random_search.best_score_:.4f}\")\n",
    "\n",
    "# Use the best estimator found\n",
    "final_model = random_search.best_estimator_\n",
    "'''"
   ]
  },
  {
   "cell_type": "markdown",
   "id": "540ea5c6-0040-45ab-b11a-1d76c86c532c",
   "metadata": {},
   "source": [
    "### Section 7: Hyperparameter Tuning (Skipped)\n",
    "\n",
    "This section was planned for hyperparameter tuning of the selected Random Forest model using methods like `RandomizedSearchCV`.\n",
    "\n",
    "However, initial attempts indicated this process would be **very time-consuming** on the large dataset (~1.6 million samples), likely taking several hours.\n",
    "\n",
    "**Decision:** Given the time constraints (late afternoon), **hyperparameter tuning was skipped** to prioritize completing the workflow efficiently. We will proceed using the untuned Random Forest model (trained with class weighting in Section 6), which provided a strong baseline performance."
   ]
  },
  {
   "cell_type": "markdown",
   "id": "37502d35",
   "metadata": {},
   "source": [
    "## 8. Prediction & Submission"
   ]
  },
  {
   "cell_type": "code",
   "execution_count": 67,
   "id": "6f723ce8-2c47-47bc-b765-5ec71ed077a4",
   "metadata": {},
   "outputs": [
    {
     "name": "stdout",
     "output_type": "stream",
     "text": [
      "\n",
      "--- Evaluating Final Model Performance on Training Data ---\n",
      "Final Model Type: RandomForestClassifier\n",
      "\n",
      "Metrics on Training Data:\n",
      "  Accuracy:  0.9986\n",
      "  Precision: 0.9678 (for class 1)\n",
      "  Recall:    0.8685 (for class 1)\n",
      "  F1 Score:  0.9155 (for class 1)\n",
      "\n",
      "Classification Report (Training Data):\n",
      "               precision    recall  f1-score   support\n",
      "\n",
      "           0       1.00      1.00      1.00   1625386\n",
      "           1       0.97      0.87      0.92     14038\n",
      "\n",
      "    accuracy                           1.00   1639424\n",
      "   macro avg       0.98      0.93      0.96   1639424\n",
      "weighted avg       1.00      1.00      1.00   1639424\n",
      "\n",
      "\n",
      "Confusion Matrix (Training Data):\n",
      "[[1624980     406]\n",
      " [   1846   12192]]\n"
     ]
    }
   ],
   "source": [
    "#  1. Evaluate Final Model Performance on TRAINING Data \n",
    "\n",
    "\n",
    "print(\"\\n--- Evaluating Final Model Performance on Training Data ---\")\n",
    "# Assuming 'final_model', 'X_train_processed', 'y_train' exist from previous steps\n",
    "print(f\"Final Model Type: {type(final_model).__name__}\")\n",
    "\n",
    "# Predict on the training data\n",
    "y_pred_train_final = final_model.predict(X_train_processed)\n",
    "\n",
    "\n",
    "# Calculate Metrics\n",
    "accuracy = accuracy_score(y_train, y_pred_train_final)\n",
    "# Use average='binary' and pos_label=1 for binary classification metrics\n",
    "precision = precision_score(y_train, y_pred_train_final, average='binary', pos_label=1, zero_division=0)\n",
    "recall = recall_score(y_train, y_pred_train_final, average='binary', pos_label=1, zero_division=0)\n",
    "f1 = f1_score(y_train, y_pred_train_final, average='binary', pos_label=1, zero_division=0)\n",
    "report = classification_report(y_train, y_pred_train_final)\n",
    "cm = confusion_matrix(y_train, y_pred_train_final)\n",
    "\n",
    "print(f\"\\nMetrics on Training Data:\")\n",
    "print(f\"  Accuracy:  {accuracy:.4f}\")\n",
    "print(f\"  Precision: {precision:.4f} (for class 1)\")\n",
    "print(f\"  Recall:    {recall:.4f} (for class 1)\")\n",
    "print(f\"  F1 Score:  {f1:.4f} (for class 1)\")\n",
    "\n",
    "print(\"\\nClassification Report (Training Data):\\n\", report)\n",
    "\n",
    "print(\"\\nConfusion Matrix (Training Data):\")\n",
    "print(cm)\n"
   ]
  },
  {
   "cell_type": "markdown",
   "id": "7a42c04a-904d-458c-8c53-16aaa843458c",
   "metadata": {},
   "source": [
    "### Model Performance Summary (on Training Data)\n",
    "\n",
    "**Note:** These metrics are based on the training set and may be higher than performance on unseen data.\n",
    "\n",
    "* **Overall:** High accuracy (99.86%), but due to class imbalance, F1 score is more informative.\n",
    "* **Anomaly Class (Class 1) Performance:**\n",
    "    * **F1-Score: 0.9155** (Indicates strong balanced performance on anomalies).\n",
    "    * **Precision: 0.9678** (Very few false alarms; when it predicts anomaly, it's usually right).\n",
    "    * **Recall: 0.8685** (Identified ~87% of true anomalies, but missed ~13%).\n",
    "* **Key Errors:** Confusion matrix shows only 406 False Positives (normal wrongly flagged) but 1,846 False Negatives (anomalies missed).\n",
    "\n",
    "**Conclusion:** The model shows strong performance learning the training data, especially regarding the F1 score for anomalies. It has high precision but could improve recall (finding more of the missed anomalies). Generalization performance on the test set remains key."
   ]
  },
  {
   "cell_type": "code",
   "execution_count": 69,
   "id": "899a2b17",
   "metadata": {},
   "outputs": [
    {
     "name": "stdout",
     "output_type": "stream",
     "text": [
      "\n",
      "--- Generating Predictions on Test Set ---\n",
      "Test predictions generated successfully.\n",
      "Predicted target distribution on test set:\n",
      "0    0.994849\n",
      "1    0.005151\n",
      "Name: proportion, dtype: float64\n"
     ]
    }
   ],
   "source": [
    "# --- 2. Generate Predictions on the TEST Set ---\n",
    "\n",
    "print(\"\\n--- Generating Predictions on Test Set ---\")\n",
    "# Assuming 'final_model' and 'X_test_processed' exist\n",
    "test_predictions = final_model.predict(X_test_processed)\n",
    "\n",
    "# Ensure predictions are integer type\n",
    "if not pd.api.types.is_integer_dtype(test_predictions):\n",
    "    test_predictions = test_predictions.astype(int)\n",
    "\n",
    "print(\"Test predictions generated successfully.\")\n",
    "print(\"Predicted target distribution on test set:\")\n",
    "print(pd.Series(test_predictions).value_counts(normalize=True))\n",
    "\n",
    "\n",
    "# (End of Section 8)"
   ]
  },
  {
   "cell_type": "code",
   "execution_count": 71,
   "id": "a1c5ddd9-7055-4ab8-b665-374fd4c591d7",
   "metadata": {},
   "outputs": [
    {
     "name": "stdout",
     "output_type": "stream",
     "text": [
      "\n",
      "--- Creating Submission File ---\n",
      "\n",
      "--- Submission File Head ---\n",
      "   ID  target\n",
      "0   0       0\n",
      "1   1       1\n",
      "2   2       0\n",
      "3   3       0\n",
      "4   4       0\n",
      "\n",
      "--- Predicted Target Distribution in Submission File ---\n",
      "target\n",
      "0    407745\n",
      "1      2111\n",
      "Name: count, dtype: int64\n",
      "\n",
      "Submission file saved successfully as submission.parquet\n"
     ]
    }
   ],
   "source": [
    "# --- 3. Create Submission File ---\n",
    "\n",
    "print(\"\\n--- Creating Submission File ---\")\n",
    "# Create the submission DataFrame using the 'ID' from the original test_df\n",
    "# and the generated 'test_predictions'\n",
    "# Assuming 'test_df' (with ID column) exists\n",
    "submission_df = pd.DataFrame({\n",
    "    \"ID\": test_df['ID'], # Use the original ID from the test set\n",
    "    \"target\": test_predictions\n",
    "})\n",
    "\n",
    "# Ensure the 'target' column is integer type (should be already, but double-check)\n",
    "submission_df['target'] = submission_df['target'].astype(int)\n",
    "\n",
    "# Display head of submission file\n",
    "print(\"\\n--- Submission File Head ---\")\n",
    "print(submission_df.head())\n",
    "\n",
    "# Display value counts in submission\n",
    "print(\"\\n--- Predicted Target Distribution in Submission File ---\")\n",
    "print(submission_df['target'].value_counts())\n",
    "\n",
    "# Save the submission file in .parquet format\n",
    "output_filename = \"submission.parquet\"\n",
    "# If saving fails (e.g., permissions), a standard error will occur\n",
    "submission_df.to_parquet(output_filename, index=False)\n",
    "print(f\"\\nSubmission file saved successfully as {output_filename}\")\n",
    "\n",
    "\n"
   ]
  },
  {
   "cell_type": "markdown",
   "id": "e7f4525b",
   "metadata": {},
   "source": [
    "## End of Notebook"
   ]
  }
 ],
 "metadata": {
  "kernelspec": {
   "display_name": "Python [conda env:base] *",
   "language": "python",
   "name": "conda-base-py"
  },
  "language_info": {
   "codemirror_mode": {
    "name": "ipython",
    "version": 3
   },
   "file_extension": ".py",
   "mimetype": "text/x-python",
   "name": "python",
   "nbconvert_exporter": "python",
   "pygments_lexer": "ipython3",
   "version": "3.12.7"
  }
 },
 "nbformat": 4,
 "nbformat_minor": 5
}
